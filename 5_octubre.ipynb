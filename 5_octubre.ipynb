{
  "nbformat": 4,
  "nbformat_minor": 0,
  "metadata": {
    "colab": {
      "name": "5_octubre",
      "provenance": [],
      "authorship_tag": "ABX9TyNV5sKDjz72LBE6bcmkpXDZ",
      "include_colab_link": true
    },
    "kernelspec": {
      "name": "python3",
      "display_name": "Python 3"
    }
  },
  "cells": [
    {
      "cell_type": "markdown",
      "metadata": {
        "id": "view-in-github",
        "colab_type": "text"
      },
      "source": [
        "<a href=\"https://colab.research.google.com/github/Luis-Martinez-Bautista/daa_2021_1/blob/master/5_octubre.ipynb\" target=\"_parent\"><img src=\"https://colab.research.google.com/assets/colab-badge.svg\" alt=\"Open In Colab\"/></a>"
      ]
    },
    {
      "cell_type": "markdown",
      "metadata": {
        "id": "tnDS9tRX_0yM"
      },
      "source": [
        "# Estructura de datos Pila (Stack)\n",
        "- Last In First Out (LIFO)\n",
        "- De tipo lineal\n",
        "- Se pueden obtener e ingresar datos desde el tope\n",
        "- Push para agregar\n",
        "- Pop para sacar\n",
        "\n",
        "## Operaciones de las pilas \n",
        "\n",
        "1. is_empty (regresa True o False)\n",
        "1. get_top (regresa el elemento en el tope SIN SACARLO)\n",
        "1. pop (Saca el elemento del tope y lo regresa)\n",
        "1. push (Mete un elemento en el tope)\n",
        "1. get_length (Regresa el número de elementos en la pila)\n"
      ]
    },
    {
      "cell_type": "code",
      "metadata": {
        "id": "AfWjTRzs_dE6"
      },
      "source": [
        "class Stack:\n",
        "  def __init__( self ):\n",
        "    self.__datos = []\n",
        "\n",
        "  def is_empty( self ):\n",
        "    return len(self.__datos) == 0\n",
        "\n",
        "  def get_top( self ):\n",
        "    return self.__datos[-1]\n",
        "\n",
        "  def pop( self ):\n",
        "    return self.__datos.pop()\n",
        "\n",
        "  def push( self, valor):\n",
        "    self.__datos.append(valor)\n",
        "\n",
        "  def get_length( self ):\n",
        "    return len(self.__datos)\n",
        "\n",
        "  def to_string( self ):\n",
        "    print(\"|-------------|\")\n",
        "    for ele in self.__datos[-1::-1]:\n",
        "      print(f\" { ele } \")\n",
        "    print(\"|-------------|\\n\")\n"
      ],
      "execution_count": 9,
      "outputs": []
    },
    {
      "cell_type": "code",
      "metadata": {
        "id": "nDtv1Z0wFQrD"
      },
      "source": [
        "pilaUno = Stack()\n",
        "print(f\"La pila está vacía?: {pilaUno.is_empty()}\")\n",
        "pilaUno.push(10)\n",
        "pilaUno.push(20)\n",
        "pilaUno.push(1)\n",
        "pilaUno.push(393)\n",
        "pilaUno.push(103)\n",
        "pilaUno.to_string()\n",
        "\n",
        "sacado = pilaUno.pop()\n",
        "print(sacado)\n",
        "pilaUno.to_string()\n",
        "\n",
        "pilaUno.push(444)\n",
        "pilaUno.push(233)\n",
        "pilaUno.to_string()\n",
        "\n",
        "print(f\"El elemento en el tope es: {pilaUno.get_top()}\")\n",
        "pilaUno.to_string()\n",
        "print(f\"La pila tiene {pilaUno.get_length()} elementos\")\n",
        "print(f\"La pila está vacía?: {pilaUno.is_empty()}\")"
      ],
      "execution_count": null,
      "outputs": []
    },
    {
      "cell_type": "markdown",
      "metadata": {
        "id": "NYtlgvf9Iq05"
      },
      "source": [
        "# Ejemplo de aplicación de pilas \n",
        "\n",
        "x = 4 + 5 + 6 + 3\n",
        "\n",
        "x = 4 + (5 + 6) + 3\n",
        "\n",
        "x = 4 + 5 + 6) + 3\n",
        "\n",
        "x = (4 + (5 + 6) + 3)\n",
        "\n",
        "if(a == b){System.out.println(b)\n",
        "\n",
        "if(a == b){System.out.println(b}\n",
        "\n",
        "# Reglas\n",
        "### '(' ---> push('@')\n",
        "### ')' ---> pop()\n",
        "Si al final del recorrido la pila está vacía, entonces la pila es correcta.\n",
        "Se en un pop desencadena en querer sacar un elemento de la pila vacía significa que la cadena no está balanceada.\n",
        "\n"
      ]
    },
    {
      "cell_type": "markdown",
      "metadata": {
        "id": "i-SXuNqANK0o"
      },
      "source": [
        "# Tarea\n",
        "Hacer un programa que valide el balanceo de '( )', '[ ]' y '{ }' en programas del lenguaje C y Java.\n",
        "\n",
        "Tomando como base el código de la clase. \n"
      ]
    }
  ]
}