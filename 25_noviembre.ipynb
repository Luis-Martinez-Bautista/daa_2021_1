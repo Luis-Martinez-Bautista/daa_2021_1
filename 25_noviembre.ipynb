{
  "nbformat": 4,
  "nbformat_minor": 0,
  "metadata": {
    "colab": {
      "name": "25 noviembre",
      "provenance": [],
      "authorship_tag": "ABX9TyPIldkvZ//1k5obWnFpy9YV",
      "include_colab_link": true
    },
    "kernelspec": {
      "name": "python3",
      "display_name": "Python 3"
    }
  },
  "cells": [
    {
      "cell_type": "markdown",
      "metadata": {
        "id": "view-in-github",
        "colab_type": "text"
      },
      "source": [
        "<a href=\"https://colab.research.google.com/github/Luis-Martinez-Bautista/daa_2021_1/blob/master/25_noviembre.ipynb\" target=\"_parent\"><img src=\"https://colab.research.google.com/assets/colab-badge.svg\" alt=\"Open In Colab\"/></a>"
      ]
    },
    {
      "cell_type": "code",
      "metadata": {
        "colab": {
          "base_uri": "https://localhost:8080/"
        },
        "id": "iQPdQD8O5EgJ",
        "outputId": "ef79799b-b86a-4dce-962d-d23fdd8cb461"
      },
      "source": [
        "frase = \"\"\"El lema que anima a la Universidad Nacional, Por mi raza hablará el espíritu, revela la vocación humanística con la que fue concebida. El autor de esta célebre frase, José Vasconcelos, asumió la rectoría en 1920, en una época en que las esperanzas de la Revolución aún estaban vivas,\n",
        " había una gran fé en la Patria y el ánimo redentor se extendía en el ambiente.\"\"\"\n",
        "\n",
        "frase = frase.strip().replace(\"\\n\", \"\").replace(\",\", \"\").replace(\".\", \"\").lower().split()\n",
        "print(frase)\n",
        "frecuencias = {}\n",
        "for index in range(len(frase)):\n",
        "  if frase[index] in frecuencias: #'el' in frecuencias:\n",
        "    pass\n",
        "  else:\n",
        "    frecuencias[frase[index]] = 1 #frecuencias['el'] = 1 --> {'el' :1}\n",
        "    for pivote in range(index+1, len(frase), 1):\n",
        "      #print(frase[index], \"comparada contra: \", frase[pivote])\n",
        "      if frase[index] == frase[pivote]: \n",
        "        frecuencias[frase[index]] +=1\n",
        "print(frecuencias)\n"
      ],
      "execution_count": 9,
      "outputs": [
        {
          "output_type": "stream",
          "text": [
            "['el', 'lema', 'que', 'anima', 'a', 'la', 'universidad', 'nacional', 'por', 'mi', 'raza', 'hablará', 'el', 'espíritu', 'revela', 'la', 'vocación', 'humanística', 'con', 'la', 'que', 'fue', 'concebida', 'el', 'autor', 'de', 'esta', 'célebre', 'frase', 'josé', 'vasconcelos', 'asumió', 'la', 'rectoría', 'en', '1920', 'en', 'una', 'época', 'en', 'que', 'las', 'esperanzas', 'de', 'la', 'revolución', 'aún', 'estaban', 'vivas', 'había', 'una', 'gran', 'fé', 'en', 'la', 'patria', 'y', 'el', 'ánimo', 'redentor', 'se', 'extendía', 'en', 'el', 'ambiente']\n",
            "{'el': 5, 'lema': 1, 'que': 3, 'anima': 1, 'a': 1, 'la': 6, 'universidad': 1, 'nacional': 1, 'por': 1, 'mi': 1, 'raza': 1, 'hablará': 1, 'espíritu': 1, 'revela': 1, 'vocación': 1, 'humanística': 1, 'con': 1, 'fue': 1, 'concebida': 1, 'autor': 1, 'de': 2, 'esta': 1, 'célebre': 1, 'frase': 1, 'josé': 1, 'vasconcelos': 1, 'asumió': 1, 'rectoría': 1, 'en': 5, '1920': 1, 'una': 2, 'época': 1, 'las': 1, 'esperanzas': 1, 'revolución': 1, 'aún': 1, 'estaban': 1, 'vivas': 1, 'había': 1, 'gran': 1, 'fé': 1, 'patria': 1, 'y': 1, 'ánimo': 1, 'redentor': 1, 'se': 1, 'extendía': 1, 'ambiente': 1}\n"
          ],
          "name": "stdout"
        }
      ]
    },
    {
      "cell_type": "code",
      "metadata": {
        "colab": {
          "base_uri": "https://localhost:8080/"
        },
        "id": "pmDmXp2l_MkD",
        "outputId": "1563bbfe-cd68-4c8e-e806-e6f8bcb27c2d"
      },
      "source": [
        "frase = \"\"\"El lema que anima a la Universidad Nacional, Por mi raza hablará el espíritu, revela la vocación humanística con la que fue concebida. El autor de esta célebre frase, José Vasconcelos, asumió la rectoría en 1920, en una época en que las esperanzas de la Revolución aún estaban vivas,\n",
        " había una gran fé en la Patria y el ánimo redentor se extendía en el ambiente.\"\"\"\n",
        "frase = frase.strip().replace(\"\\n\", \"\").replace(\",\", \"\").replace(\".\", \"\").lower().split()\n",
        "print(frase)\n",
        "frecuencias = {}\n",
        "for index in range(len(frase)):\n",
        "  print(hash(frase[index]))\n",
        "  if frase[index] in frecuencias:\n",
        "    frecuencias[frase[index]] += 1\n",
        "  else:\n",
        "    frecuencias[frase[index]] = 1\n",
        "print(frecuencias)"
      ],
      "execution_count": 13,
      "outputs": [
        {
          "output_type": "stream",
          "text": [
            "['el', 'lema', 'que', 'anima', 'a', 'la', 'universidad', 'nacional', 'por', 'mi', 'raza', 'hablará', 'el', 'espíritu', 'revela', 'la', 'vocación', 'humanística', 'con', 'la', 'que', 'fue', 'concebida', 'el', 'autor', 'de', 'esta', 'célebre', 'frase', 'josé', 'vasconcelos', 'asumió', 'la', 'rectoría', 'en', '1920', 'en', 'una', 'época', 'en', 'que', 'las', 'esperanzas', 'de', 'la', 'revolución', 'aún', 'estaban', 'vivas', 'había', 'una', 'gran', 'fé', 'en', 'la', 'patria', 'y', 'el', 'ánimo', 'redentor', 'se', 'extendía', 'en', 'el', 'ambiente']\n",
            "7922878726641175071\n",
            "-7486374128465076760\n",
            "-5863714063516486132\n",
            "651043671090833459\n",
            "-2515026534411622113\n",
            "774322755424080340\n",
            "-3372587926338582541\n",
            "-6804341974748983713\n",
            "1258246850731505112\n",
            "7737471253090104352\n",
            "-5525846861742699878\n",
            "-565976187349624000\n",
            "7922878726641175071\n",
            "7509277136746897812\n",
            "8766760175647118888\n",
            "774322755424080340\n",
            "6263076649784671256\n",
            "1458731682329886112\n",
            "-1103630145683013518\n",
            "774322755424080340\n",
            "-5863714063516486132\n",
            "-5731055241425709481\n",
            "-4746569083316623565\n",
            "7922878726641175071\n",
            "-7604944304540458853\n",
            "-2859249162373538037\n",
            "6586984318218937122\n",
            "5565362364683749926\n",
            "-630721388626480112\n",
            "7089554422785788945\n",
            "2490757453651923894\n",
            "-7246920419751882070\n",
            "774322755424080340\n",
            "1284012738914299298\n",
            "8428635584880927980\n",
            "-6036643354195233031\n",
            "8428635584880927980\n",
            "-2686313151181754063\n",
            "9024043594725025971\n",
            "8428635584880927980\n",
            "-5863714063516486132\n",
            "-5192757061942314009\n",
            "5775128845002149292\n",
            "-2859249162373538037\n",
            "774322755424080340\n",
            "-2691227122362918912\n",
            "1138487602901985575\n",
            "-6274326104899170373\n",
            "-2313299919380126106\n",
            "-6077822032397146556\n",
            "-2686313151181754063\n",
            "-2414491910882013447\n",
            "5195987217790818132\n",
            "8428635584880927980\n",
            "774322755424080340\n",
            "-7824871065218092939\n",
            "-2887890541673985809\n",
            "7922878726641175071\n",
            "-39237390338433505\n",
            "8638848863917590348\n",
            "-7306621092210962784\n",
            "5456043889471032171\n",
            "8428635584880927980\n",
            "7922878726641175071\n",
            "2237334455387529267\n",
            "{'el': 5, 'lema': 1, 'que': 3, 'anima': 1, 'a': 1, 'la': 6, 'universidad': 1, 'nacional': 1, 'por': 1, 'mi': 1, 'raza': 1, 'hablará': 1, 'espíritu': 1, 'revela': 1, 'vocación': 1, 'humanística': 1, 'con': 1, 'fue': 1, 'concebida': 1, 'autor': 1, 'de': 2, 'esta': 1, 'célebre': 1, 'frase': 1, 'josé': 1, 'vasconcelos': 1, 'asumió': 1, 'rectoría': 1, 'en': 5, '1920': 1, 'una': 2, 'época': 1, 'las': 1, 'esperanzas': 1, 'revolución': 1, 'aún': 1, 'estaban': 1, 'vivas': 1, 'había': 1, 'gran': 1, 'fé': 1, 'patria': 1, 'y': 1, 'ánimo': 1, 'redentor': 1, 'se': 1, 'extendía': 1, 'ambiente': 1}\n"
          ],
          "name": "stdout"
        }
      ]
    }
  ]
}