{
  "nbformat": 4,
  "nbformat_minor": 0,
  "metadata": {
    "colab": {
      "name": "Tarea 4",
      "provenance": [],
      "authorship_tag": "ABX9TyMi3DVlDaEZ8YosihYVhCYw",
      "include_colab_link": true
    },
    "kernelspec": {
      "name": "python3",
      "display_name": "Python 3"
    }
  },
  "cells": [
    {
      "cell_type": "markdown",
      "metadata": {
        "id": "view-in-github",
        "colab_type": "text"
      },
      "source": [
        "<a href=\"https://colab.research.google.com/github/Luis-Martinez-Bautista/daa_2021_1/blob/master/Tarea_4.ipynb\" target=\"_parent\"><img src=\"https://colab.research.google.com/assets/colab-badge.svg\" alt=\"Open In Colab\"/></a>"
      ]
    },
    {
      "cell_type": "code",
      "metadata": {
        "id": "N_CDnUJ-DGWw",
        "outputId": "609d705c-c85c-4940-e3dd-d27ecb27f399",
        "colab": {
          "base_uri": "https://localhost:8080/",
          "height": 182
        }
      },
      "source": [
        "def ejemploCuatro(n):\n",
        "  count = 0\n",
        "  i = n\n",
        "  print('Nivel 1')\n",
        "  while i >= 1:\n",
        "    count += 1\n",
        "    i = i // 2\n",
        "    print('Nivel 2')\n",
        "  basura = 3 + 2\n",
        "  return count\n",
        "\n",
        "ejemploCuatro(100)"
      ],
      "execution_count": null,
      "outputs": [
        {
          "output_type": "stream",
          "text": [
            "Nivel 1\n",
            "Nivel 2\n",
            "Nivel 2\n",
            "Nivel 2\n",
            "Nivel 2\n",
            "Nivel 2\n",
            "Nivel 2\n",
            "Nivel 2\n"
          ],
          "name": "stdout"
        },
        {
          "output_type": "execute_result",
          "data": {
            "text/plain": [
              "7"
            ]
          },
          "metadata": {
            "tags": []
          },
          "execution_count": 6
        }
      ]
    }
  ]
}