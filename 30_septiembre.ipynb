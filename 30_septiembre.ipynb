{
  "nbformat": 4,
  "nbformat_minor": 0,
  "metadata": {
    "colab": {
      "name": "30 septiembre",
      "provenance": [],
      "authorship_tag": "ABX9TyN9eA+kRRZGDg8qfHSjg66R",
      "include_colab_link": true
    },
    "kernelspec": {
      "name": "python3",
      "display_name": "Python 3"
    }
  },
  "cells": [
    {
      "cell_type": "markdown",
      "metadata": {
        "id": "view-in-github",
        "colab_type": "text"
      },
      "source": [
        "<a href=\"https://colab.research.google.com/github/Luis-Martinez-Bautista/daa_2021_1/blob/master/30_septiembre.ipynb\" target=\"_parent\"><img src=\"https://colab.research.google.com/assets/colab-badge.svg\" alt=\"Open In Colab\"/></a>"
      ]
    },
    {
      "cell_type": "code",
      "metadata": {
        "id": "s4WMJRMSP6qb",
        "outputId": "0c517617-50f6-4318-f92b-41c37698b620",
        "colab": {
          "base_uri": "https://localhost:8080/",
          "height": 348
        }
      },
      "source": [
        "import sys\n",
        "horaDec = 0\n",
        "horaUni = 0\n",
        "minutoDec = 0\n",
        "minutoUni = 0\n",
        "contador = 0\n",
        "print(\"La lista de palindromos es: \")\n",
        "while horaDec != 2 or horaUni != 4: \n",
        "  if minutoUni == 10:\n",
        "    minutoUni = 0\n",
        "    minutoDec += 1 \n",
        "    if minutoDec == 6:\n",
        "      minutoDec = 0\n",
        "      horaUni += 1\n",
        "      if horaUni == 10: \n",
        "        horaUni = 0\n",
        "        horaDec += 1\n",
        "  if horaDec == minutoUni and horaUni == minutoDec:\n",
        "    contador += 1\n",
        "    print(horaDec,horaUni, \":\", minutoDec, minutoUni)\n",
        "  minutoUni += 1\n",
        "print(\"El numero de palindromos es: \", contador)\n",
        "          \n",
        "        "
      ],
      "execution_count": 69,
      "outputs": [
        {
          "output_type": "stream",
          "text": [
            "La lista de palindromos es: \n",
            "0 0 : 0 0\n",
            "0 1 : 1 0\n",
            "0 2 : 2 0\n",
            "0 3 : 3 0\n",
            "0 4 : 4 0\n",
            "0 5 : 5 0\n",
            "1 0 : 0 1\n",
            "1 1 : 1 1\n",
            "1 2 : 2 1\n",
            "1 3 : 3 1\n",
            "1 4 : 4 1\n",
            "1 5 : 5 1\n",
            "2 0 : 0 2\n",
            "2 1 : 1 2\n",
            "2 2 : 2 2\n",
            "2 3 : 3 2\n",
            "El numero de palindromos es:  16\n"
          ],
          "name": "stdout"
        }
      ]
    }
  ]
}