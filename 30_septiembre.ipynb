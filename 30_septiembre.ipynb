{
  "nbformat": 4,
  "nbformat_minor": 0,
  "metadata": {
    "colab": {
      "name": "30 septiembre",
      "provenance": [],
      "authorship_tag": "ABX9TyO+mw4gJahQxDrIr000rB2D",
      "include_colab_link": true
    },
    "kernelspec": {
      "name": "python3",
      "display_name": "Python 3"
    }
  },
  "cells": [
    {
      "cell_type": "markdown",
      "metadata": {
        "id": "view-in-github",
        "colab_type": "text"
      },
      "source": [
        "<a href=\"https://colab.research.google.com/github/Luis-Martinez-Bautista/daa_2021_1/blob/master/30_septiembre.ipynb\" target=\"_parent\"><img src=\"https://colab.research.google.com/assets/colab-badge.svg\" alt=\"Open In Colab\"/></a>"
      ]
    },
    {
      "cell_type": "code",
      "metadata": {
        "id": "s4WMJRMSP6qb",
        "outputId": "1c01f294-acda-40f4-9e69-13ac1c7fe9ce",
        "colab": {
          "base_uri": "https://localhost:8080/",
          "height": 844
        }
      },
      "source": [
        "import sys\n",
        "horaDec = 0\n",
        "horaUni = 0\n",
        "minutoDec = 0\n",
        "minutoUni = 0\n",
        "while horaDec != 2 and horaUni != 3 and minutoDec != 5 and minutoUni != 9:\n",
        "  minutoUni += 1\n",
        "  if minutoUni == 9:\n",
        "    minutoUni = 0\n",
        "    minutoDec += 1 \n",
        "    if minutoDec == 6:\n",
        "      minutoDec = 0\n",
        "      horaUni += 1\n",
        "      if horaUni == 9: \n",
        "        horaUni = 0\n",
        "        horaDec += 1\n",
        "print(horaDec, horaUni, minutoDec, minutoUni)\n",
        "\n",
        "          \n",
        "        "
      ],
      "execution_count": 22,
      "outputs": [
        {
          "output_type": "stream",
          "text": [
            "0 0 0 0\n",
            "0 0 0 1\n",
            "0 0 0 2\n",
            "0 0 0 3\n",
            "0 0 0 4\n",
            "0 0 0 5\n",
            "0 0 0 6\n",
            "0 0 0 7\n",
            "0 0 0 8\n",
            "0 0 1 0\n",
            "0 0 1 1\n",
            "0 0 1 2\n",
            "0 0 1 3\n",
            "0 0 1 4\n",
            "0 0 1 5\n",
            "0 0 1 6\n",
            "0 0 1 7\n",
            "0 0 1 8\n",
            "0 0 2 0\n",
            "0 0 2 1\n",
            "0 0 2 2\n",
            "0 0 2 3\n",
            "0 0 2 4\n",
            "0 0 2 5\n",
            "0 0 2 6\n",
            "0 0 2 7\n",
            "0 0 2 8\n",
            "0 0 3 0\n",
            "0 0 3 1\n",
            "0 0 3 2\n",
            "0 0 3 3\n",
            "0 0 3 4\n",
            "0 0 3 5\n",
            "0 0 3 6\n",
            "0 0 3 7\n",
            "0 0 3 8\n",
            "0 0 4 0\n",
            "0 0 4 1\n",
            "0 0 4 2\n",
            "0 0 4 3\n",
            "0 0 4 4\n",
            "0 0 4 5\n",
            "0 0 4 6\n",
            "0 0 4 7\n",
            "0 0 4 8\n"
          ],
          "name": "stdout"
        }
      ]
    }
  ]
}