{
  "nbformat": 4,
  "nbformat_minor": 0,
  "metadata": {
    "colab": {
      "name": "28 septiembre.ipynb",
      "provenance": [],
      "authorship_tag": "ABX9TyP33+/g/yyv+PHp4dfO3upA",
      "include_colab_link": true
    },
    "kernelspec": {
      "name": "python3",
      "display_name": "Python 3"
    }
  },
  "cells": [
    {
      "cell_type": "markdown",
      "metadata": {
        "id": "view-in-github",
        "colab_type": "text"
      },
      "source": [
        "<a href=\"https://colab.research.google.com/github/Luis-Martinez-Bautista/daa_2021_1/blob/master/28_septiembre.ipynb\" target=\"_parent\"><img src=\"https://colab.research.google.com/assets/colab-badge.svg\" alt=\"Open In Colab\"/></a>"
      ]
    },
    {
      "cell_type": "code",
      "metadata": {
        "id": "0kWKfb2TCdqk"
      },
      "source": [
        ""
      ],
      "execution_count": null,
      "outputs": []
    },
    {
      "cell_type": "markdown",
      "metadata": {
        "id": "ZKqs9uSbCrfP"
      },
      "source": [
        "# Sección Uno\n"
      ]
    },
    {
      "cell_type": "markdown",
      "metadata": {
        "id": "i16dbBcPC9US"
      },
      "source": [
        "En este archivo aprenderemos a programar en Python con la herramienta de Google Colab Research.\n",
        "\n",
        "También aprenderemos a guardar nuestros cambios a nuestro repositorio de github.com"
      ]
    },
    {
      "cell_type": "markdown",
      "metadata": {
        "id": "HFUA2ZJBDvP6"
      },
      "source": [
        "## Código de ejemplo\n",
        "**Negritas** \n",
        "_Italica_\n",
        "\n",
        "`edad = 10\n",
        "print(edad)\n",
        "`\n"
      ]
    },
    {
      "cell_type": "code",
      "metadata": {
        "id": "tclsjkAxGdXu",
        "outputId": "9060ee18-ed78-424a-813f-1bd3d8ff308f",
        "colab": {
          "base_uri": "https://localhost:8080/",
          "height": 35
        }
      },
      "source": [
        "frutas = []\n",
        "frutas.append('Manzana')\n",
        "frutas.append('Piña')\n",
        "frutas.append('Kiwi')\n",
        "print(frutas)"
      ],
      "execution_count": 1,
      "outputs": [
        {
          "output_type": "stream",
          "text": [
            "['Manzana', 'Piña', 'Kiwi']\n"
          ],
          "name": "stdout"
        }
      ]
    },
    {
      "cell_type": "code",
      "metadata": {
        "id": "lnk_eEhqHsVp"
      },
      "source": [
        "archivo = open('[prueba_daa.txt','wt')\n",
        "archivo.write(\"Hola mundo Jupiter\")\n",
        "archivo.close()"
      ],
      "execution_count": 3,
      "outputs": []
    }
  ]
}