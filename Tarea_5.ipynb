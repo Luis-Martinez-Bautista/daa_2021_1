{
  "nbformat": 4,
  "nbformat_minor": 0,
  "metadata": {
    "colab": {
      "name": "Tarea 5",
      "provenance": [],
      "authorship_tag": "ABX9TyOO7wzL4oOCnkveizhU2x2o",
      "include_colab_link": true
    },
    "kernelspec": {
      "name": "python3",
      "display_name": "Python 3"
    }
  },
  "cells": [
    {
      "cell_type": "markdown",
      "metadata": {
        "id": "view-in-github",
        "colab_type": "text"
      },
      "source": [
        "<a href=\"https://colab.research.google.com/github/Luis-Martinez-Bautista/daa_2021_1/blob/master/Tarea_5.ipynb\" target=\"_parent\"><img src=\"https://colab.research.google.com/assets/colab-badge.svg\" alt=\"Open In Colab\"/></a>"
      ]
    },
    {
      "cell_type": "code",
      "metadata": {
        "id": "sPsjmXPXe8KU",
        "outputId": "b012f318-b49f-4c0d-8f2d-a029df738605",
        "colab": {
          "base_uri": "https://localhost:8080/",
          "height": 384
        }
      },
      "source": [
        "from time import time\n",
        "\n",
        "def ejemplo1( n ):\n",
        "    start_time = time()\n",
        "    c = n + 1\n",
        "    d = c * n\n",
        "    e = n * n\n",
        "    total = c + e - d\n",
        "    elapsed_time = time() - start_time\n",
        "    print(\"Tiempo transcurrido: %0.10f segundos.\" % elapsed_time)\n",
        "    print(f\"total={ total }\")\n",
        "for entrada in range (100,1100,100):\n",
        "  ejemplo1( entrada )"
      ],
      "execution_count": null,
      "outputs": [
        {
          "output_type": "stream",
          "text": [
            "Tiempo transcurrido: 0.0000011921 segundos.\n",
            "total=1\n",
            "Tiempo transcurrido: 0.0000009537 segundos.\n",
            "total=1\n",
            "Tiempo transcurrido: 0.0000007153 segundos.\n",
            "total=1\n",
            "Tiempo transcurrido: 0.0000004768 segundos.\n",
            "total=1\n",
            "Tiempo transcurrido: 0.0000004768 segundos.\n",
            "total=1\n",
            "Tiempo transcurrido: 0.0000004768 segundos.\n",
            "total=1\n",
            "Tiempo transcurrido: 0.0000004768 segundos.\n",
            "total=1\n",
            "Tiempo transcurrido: 0.0000004768 segundos.\n",
            "total=1\n",
            "Tiempo transcurrido: 0.0000004768 segundos.\n",
            "total=1\n",
            "Tiempo transcurrido: 0.0000004768 segundos.\n",
            "total=1\n"
          ],
          "name": "stdout"
        }
      ]
    },
    {
      "cell_type": "code",
      "metadata": {
        "id": "8Dmx4_k5adQu",
        "outputId": "b98a71d7-0eec-4fbb-9313-ac60389c39fe",
        "colab": {
          "base_uri": "https://localhost:8080/",
          "height": 201
        }
      },
      "source": [
        "from time import time \n",
        "\n",
        "def ejemplo2( n ):\n",
        "    start_time = time()\n",
        "    contador = 0\n",
        "    for i in range( n ) :\n",
        "        for j in range( n ) :\n",
        "            contador += 1\n",
        "    elapsed_time = time() - start_time\n",
        "    print(\"Tiempo transcurrido: %0.10f segundos.\" % elapsed_time)\n",
        "    return contador\n",
        "\n",
        "for entrada in range (100,1100,100):\n",
        "  ejemplo2( entrada )"
      ],
      "execution_count": null,
      "outputs": [
        {
          "output_type": "stream",
          "text": [
            "Tiempo transcurrido: 0.0004346371 segundos.\n",
            "Tiempo transcurrido: 0.0016841888 segundos.\n",
            "Tiempo transcurrido: 0.0038242340 segundos.\n",
            "Tiempo transcurrido: 0.0073015690 segundos.\n",
            "Tiempo transcurrido: 0.0114495754 segundos.\n",
            "Tiempo transcurrido: 0.0211808681 segundos.\n",
            "Tiempo transcurrido: 0.0259549618 segundos.\n",
            "Tiempo transcurrido: 0.0395953655 segundos.\n",
            "Tiempo transcurrido: 0.0403363705 segundos.\n",
            "Tiempo transcurrido: 0.0500500202 segundos.\n"
          ],
          "name": "stdout"
        }
      ]
    },
    {
      "cell_type": "code",
      "metadata": {
        "id": "heShTyGufCDH",
        "outputId": "1aae359b-8b5f-440c-dae0-9374b37d9a0f",
        "colab": {
          "base_uri": "https://localhost:8080/",
          "height": 201
        }
      },
      "source": [
        "from time import time \n",
        "\n",
        "def ejemplo3( n ): # n=4\n",
        "    start_time = time()\n",
        "    x = n * 2 # x = 8\n",
        "    y = 0   # y = 0\n",
        "    for m in range( 100 ): #3\n",
        "        y = x - n   # y = 4\n",
        "    elapsed_time = time() - start_time\n",
        "    print(\"Tiempo transcurrido: %0.10f segundos.\" % elapsed_time)\n",
        "    return y\n",
        "\n",
        "for entrada in range (100,1100,100):\n",
        "  ejemplo3( entrada )"
      ],
      "execution_count": null,
      "outputs": [
        {
          "output_type": "stream",
          "text": [
            "Tiempo transcurrido: 0.0000064373 segundos.\n",
            "Tiempo transcurrido: 0.0000069141 segundos.\n",
            "Tiempo transcurrido: 0.0000083447 segundos.\n",
            "Tiempo transcurrido: 0.0000081062 segundos.\n",
            "Tiempo transcurrido: 0.0000069141 segundos.\n",
            "Tiempo transcurrido: 0.0000066757 segundos.\n",
            "Tiempo transcurrido: 0.0000069141 segundos.\n",
            "Tiempo transcurrido: 0.0000071526 segundos.\n",
            "Tiempo transcurrido: 0.0000069141 segundos.\n",
            "Tiempo transcurrido: 0.0000076294 segundos.\n"
          ],
          "name": "stdout"
        }
      ]
    },
    {
      "cell_type": "code",
      "metadata": {
        "id": "zKGWUPQNfu3C",
        "outputId": "48cd4ffe-1350-45bc-9dee-b426bd12bf49",
        "colab": {
          "base_uri": "https://localhost:8080/",
          "height": 201
        }
      },
      "source": [
        "from time import time\n",
        "\n",
        "def ejemplo4( n ):\n",
        "    start_time = time()\n",
        "    x = 3 * 3.1416 + n\n",
        "    y = x + 3 * 3 - n\n",
        "    z = x + y\n",
        "    elapsed_time = time() - start_time\n",
        "    print(\"Tiempo transcurrido: %0.10f segundos.\" % elapsed_time)\n",
        "    return z\n",
        "\n",
        "for entrada in range (100,1100,100):\n",
        "  ejemplo4( entrada )"
      ],
      "execution_count": null,
      "outputs": [
        {
          "output_type": "stream",
          "text": [
            "Tiempo transcurrido: 0.0000009537 segundos.\n",
            "Tiempo transcurrido: 0.0000007153 segundos.\n",
            "Tiempo transcurrido: 0.0000007153 segundos.\n",
            "Tiempo transcurrido: 0.0000002384 segundos.\n",
            "Tiempo transcurrido: 0.0000009537 segundos.\n",
            "Tiempo transcurrido: 0.0000002384 segundos.\n",
            "Tiempo transcurrido: 0.0000002384 segundos.\n",
            "Tiempo transcurrido: 0.0000004768 segundos.\n",
            "Tiempo transcurrido: 0.0000002384 segundos.\n",
            "Tiempo transcurrido: 0.0000002384 segundos.\n"
          ],
          "name": "stdout"
        }
      ]
    },
    {
      "cell_type": "code",
      "metadata": {
        "id": "YPu4g1uLgaUU",
        "outputId": "7f6dbf49-21cd-4613-89ff-13c3aa83cd85",
        "colab": {
          "base_uri": "https://localhost:8080/",
          "height": 201
        }
      },
      "source": [
        "from time import time\n",
        "\n",
        "def ejemplo5( x ):\n",
        "    start_time = time()\n",
        "    n = 10\n",
        "    for j in range( 0 , x , 1 ):\n",
        "        n = j + n\n",
        "    elapsed_time = time() - start_time\n",
        "    print(\"Tiempo transcurrido: %0.10f segundos.\" % elapsed_time)\n",
        "    return n\n",
        "\n",
        "for entrada in range (100,1100,100):\n",
        "  ejemplo5( entrada )"
      ],
      "execution_count": null,
      "outputs": [
        {
          "output_type": "stream",
          "text": [
            "Tiempo transcurrido: 0.0000061989 segundos.\n",
            "Tiempo transcurrido: 0.0000202656 segundos.\n",
            "Tiempo transcurrido: 0.0000202656 segundos.\n",
            "Tiempo transcurrido: 0.0000305176 segundos.\n",
            "Tiempo transcurrido: 0.0000464916 segundos.\n",
            "Tiempo transcurrido: 0.0000531673 segundos.\n",
            "Tiempo transcurrido: 0.0000643730 segundos.\n",
            "Tiempo transcurrido: 0.0000710487 segundos.\n",
            "Tiempo transcurrido: 0.0000979900 segundos.\n",
            "Tiempo transcurrido: 0.0000824928 segundos.\n"
          ],
          "name": "stdout"
        }
      ]
    },
    {
      "cell_type": "code",
      "metadata": {
        "id": "oEuqZWMtiVn6",
        "outputId": "5ed5a171-0e8c-4cfc-c0d1-599f6ec79f3b",
        "colab": {
          "base_uri": "https://localhost:8080/",
          "height": 201
        }
      },
      "source": [
        "from time import time \n",
        "\n",
        "def ejemplo6( n ):\n",
        "    start_time = time()\n",
        "    data=[[[1 for x in range(n)] for x in range(n)]\n",
        "          for x in range(n)]\n",
        "    suma = 0\n",
        "    for d in range(n):\n",
        "        for r in range(n):\n",
        "            for c in range(n):\n",
        "                suma += data[d][r][c]\n",
        "    elapsed_time = time() - start_time\n",
        "    print(\"Tiempo transcurrido: %0.10f segundos.\" % elapsed_time)\n",
        "    return suma\n",
        "for entrada in range (100,1100,100):\n",
        "  ejemplo6( entrada )"
      ],
      "execution_count": null,
      "outputs": [
        {
          "output_type": "stream",
          "text": [
            "Tiempo transcurrido: 0.1307423115 segundos.\n",
            "Tiempo transcurrido: 0.9963922501 segundos.\n",
            "Tiempo transcurrido: 3.2526800632 segundos.\n",
            "Tiempo transcurrido: 8.4628179073 segundos.\n",
            "Tiempo transcurrido: 17.7097661495 segundos.\n",
            "Tiempo transcurrido: 30.9949469566 segundos.\n",
            "Tiempo transcurrido: 48.6329808235 segundos.\n",
            "Tiempo transcurrido: 75.2490260601 segundos.\n",
            "Tiempo transcurrido: 106.2671442032 segundos.\n",
            "Tiempo transcurrido: 145.2600648403 segundos.\n"
          ],
          "name": "stdout"
        }
      ]
    },
    {
      "cell_type": "code",
      "metadata": {
        "id": "4twBtqBcnoyR",
        "outputId": "ecfb6c79-e159-4b42-94ee-afb9e1270d96",
        "colab": {
          "base_uri": "https://localhost:8080/",
          "height": 201
        }
      },
      "source": [
        "from time import time\n",
        "\n",
        "def ejemplo6( n ):\n",
        "    start_time = time()\n",
        "    data=[[[1 for x in range(n)] for x in range(n)] \n",
        "          for x in range(n)]\n",
        "    suma = 0\n",
        "    for d in range(n):\n",
        "        for r in range(n):\n",
        "            for c in range(n):\n",
        "                suma += data[d][r][c]\n",
        "    elapsed_time = time() - start_time\n",
        "    print(\"Tiempo transcurrido: %0.10f segundos.\" % elapsed_time)\n",
        "    return suma\n",
        "for entrada in range (100,1100,100):\n",
        "  ejemplo6( entrada )"
      ],
      "execution_count": null,
      "outputs": [
        {
          "output_type": "stream",
          "text": [
            "Tiempo transcurrido: 0.1289079189 segundos.\n",
            "Tiempo transcurrido: 0.9919409752 segundos.\n",
            "Tiempo transcurrido: 3.4850652218 segundos.\n",
            "Tiempo transcurrido: 8.7606933117 segundos.\n",
            "Tiempo transcurrido: 16.7004642487 segundos.\n",
            "Tiempo transcurrido: 31.4017508030 segundos.\n",
            "Tiempo transcurrido: 48.7310798168 segundos.\n",
            "Tiempo transcurrido: 74.0406322479 segundos.\n",
            "Tiempo transcurrido: 106.5827693939 segundos.\n",
            "Tiempo transcurrido: 150.4477868080 segundos.\n"
          ],
          "name": "stdout"
        }
      ]
    }
  ]
}