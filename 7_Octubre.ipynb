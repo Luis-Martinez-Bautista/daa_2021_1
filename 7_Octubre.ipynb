{
  "nbformat": 4,
  "nbformat_minor": 0,
  "metadata": {
    "colab": {
      "name": "7_Octubre",
      "provenance": [],
      "authorship_tag": "ABX9TyMxggNO6RJ6X++wPQ2dmC4b",
      "include_colab_link": true
    },
    "kernelspec": {
      "name": "python3",
      "display_name": "Python 3"
    }
  },
  "cells": [
    {
      "cell_type": "markdown",
      "metadata": {
        "id": "view-in-github",
        "colab_type": "text"
      },
      "source": [
        "<a href=\"https://colab.research.google.com/github/Luis-Martinez-Bautista/daa_2021_1/blob/master/7_Octubre.ipynb\" target=\"_parent\"><img src=\"https://colab.research.google.com/assets/colab-badge.svg\" alt=\"Open In Colab\"/></a>"
      ]
    },
    {
      "cell_type": "markdown",
      "metadata": {
        "id": "gPCwHIg7Sgf8"
      },
      "source": [
        "# Busqueda lineal\n",
        "\n",
        "Dado un conjunto de datos no ordenados, la busqueda lineal consiste en recorrer el conjunto de datos desde el inicio al final, moviendose de uno en uno hasta encontrar el elemento o llegar al final del conjunto.\n",
        "\n",
        "datos = [4, 18, 47, 2, 34, 14, 78, 12, 48, 21, 31, 19, 1, 3, 5]\n",
        "\n",
        "# Busqueda binaria\n",
        "Funciona sobre un conjunto de datos lineal ordenado.\n",
        "Consiste en dividir el conjunto en mitades y buscar en esa mitad. Si el elemento buscado no está en la mitad, preguntas si el elemento está a la derecha o a la izquierda. Haces la lista igual a la mitad correspondiente y repites el proceso.\n",
        "\n",
        "[1, 2, 3, 4, 5, 12, 14, 18, 19, 21, 31, 34, 47, 48, 78]\n",
        "\n",
        "DER = longitud(L) - 1\n",
        "\n",
        "IZQ = 0\n",
        "\n",
        "MID apuntará a la mitad del segmento de busqueda\n",
        "\n",
        "Buscado es el valor a buscar en la lista\n",
        "\n",
        "1. Hacer DER = longitud(L) - 1\n",
        "2. Hacer IZQ = 0\n",
        "3. Si IZQ > DER significa que hay un error en los datos\n",
        "4. Calcular MID = int((IZQ + DER)/2)\n",
        "5. Mientras L[MID] != Buscado hacer\n",
        "6.         - Preguntar L[MID] > Buscado\n",
        "              - hacer DER = MID\n",
        "         - De lo contrario\n",
        "              - Hacer IZQ = MID\n",
        "        - Preguntar (DER - IZQ) %2\n",
        "              - MID = (IZQ + ((DER-IZQ) / 2)) + 1\n",
        "        -De lo contrario\n",
        "              - MID = IZQ + ((DER - IZQ) / 2)\n",
        "return MID"
      ]
    },
    {
      "cell_type": "code",
      "metadata": {
        "id": "TrChpDo3ScvX",
        "outputId": "2fe228c6-6e93-413e-9ff3-f7bcb88be3bf",
        "colab": {
          "base_uri": "https://localhost:8080/"
        }
      },
      "source": [
        "\"\"\"\n",
        "Busqueda lineal\n",
        "regresa la posición del elemento 'buscado' si se encuentra dentro de la lista.\n",
        "Regresa -1 si el elemento buscado no existe dentro de la lista.\n",
        "\"\"\"\n",
        "def busq_lineal(L, buscado): \n",
        "  indice = -1\n",
        "  contador = 0\n",
        "  for idx in range(len(L)):\n",
        "    contador += 1\n",
        "    if L[idx] == buscado:\n",
        "      indice = idx\n",
        "      break\n",
        "  print(f\"Numero de comparaciones realizadas = {contador}\")\n",
        "  return indice\n",
        "\n",
        "\"\"\"\n",
        "Busqueda binaria\n",
        "\"\"\"\n",
        "def busqueda_binaria(L, buscado):\n",
        "  IZQ = 0\n",
        "  DER = len(L) - 1\n",
        "  MID = int((IZQ + DER) / 2)\n",
        "  if len(L) %2 == 0:\n",
        "    MID = (DER // 2) + 1\n",
        "  else:\n",
        "    MID = DER // 2\n",
        "  \n",
        "  while (L[MID] != buscado):\n",
        "    if L[MID] > buscado:\n",
        "      DER = MID\n",
        "    else:\n",
        "      IZQ = MID\n",
        "    if (DER - IZQ) % 2 == 0:\n",
        "      MID = (IZQ + ((DER - IZQ) // 2)) + 1\n",
        "    else:\n",
        "      MID = IZQ + ((DER - IZQ) // 2)\n",
        "    return MID\n",
        "\n",
        "def main():\n",
        "  datos = [4, 18, 47, 2, 34, 14, 78, 12, 48, 21, 31, 19, 1, 3, 5]\n",
        "  dato = int(input(\"Que valor quieres buscar: \"))\n",
        "  resultado = busq_lineal(datos, dato)\n",
        "  print(\"Resultado: \",resultado)\n",
        "\n",
        "  print(\"Busqueda lineal en una lista ordenada\")\n",
        "  datos.sort()\n",
        "  print(datos)\n",
        "  resultado = busq_lineal(datos, dato)\n",
        "  print(\"Resultado: \",resultado)\n",
        "  print(\"Busqueda binaria\")\n",
        "  posicion = busqueda_binaria(datos, dato)\n",
        "  print(f\"El elemento {dato} está en la posición {posicion} de la lista\")\n",
        "main()"
      ],
      "execution_count": 12,
      "outputs": [
        {
          "output_type": "stream",
          "text": [
            "Que valor quieres buscar: 48\n",
            "Numero de comparaciones realizadas = 9\n",
            "Resultado:  8\n",
            "Busqueda lineal en una lista ordenada\n",
            "[1, 2, 3, 4, 5, 12, 14, 18, 19, 21, 31, 34, 47, 48, 78]\n",
            "Numero de comparaciones realizadas = 14\n",
            "Resultado:  13\n",
            "Busqueda binaria\n",
            "7\n",
            "El elemento 48 está en la posición 10 de la lista\n"
          ],
          "name": "stdout"
        }
      ]
    }
  ]
}