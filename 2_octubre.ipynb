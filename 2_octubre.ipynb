{
  "nbformat": 4,
  "nbformat_minor": 0,
  "metadata": {
    "colab": {
      "name": "2 octubre",
      "provenance": [],
      "toc_visible": true,
      "authorship_tag": "ABX9TyNRToWw6pz1Tuo7/YIK1fzc",
      "include_colab_link": true
    },
    "kernelspec": {
      "name": "python3",
      "display_name": "Python 3"
    }
  },
  "cells": [
    {
      "cell_type": "markdown",
      "metadata": {
        "id": "view-in-github",
        "colab_type": "text"
      },
      "source": [
        "<a href=\"https://colab.research.google.com/github/Luis-Martinez-Bautista/daa_2021_1/blob/master/2_octubre.ipynb\" target=\"_parent\"><img src=\"https://colab.research.google.com/assets/colab-badge.svg\" alt=\"Open In Colab\"/></a>"
      ]
    },
    {
      "cell_type": "markdown",
      "metadata": {
        "id": "bo_QOPlPiPDw"
      },
      "source": [
        "## Meteorología en México\n",
        "En Sistema meteorológico nacional lleva el registro de la lluvias desde el año 1985 y lo pone a disposición de la población por medio de la pagina datos.gob.mx.\n",
        "\n",
        "En la siguiente liga se encuentran 2  archivos separados por comas CSV correspondientes a los registros de lluvias\n",
        "mensuales y anuales de los años 2017 y 2018. En los columnas se encuentran 13,  correspondientes al promedio mensual y el promedio anual.\n",
        "En los renglones se encuentran 33, correspondientes a cada uno de los 32 estados y a nivel nacional.\n",
        "\n",
        "https://drive.google.com/file/d/1lamkxgq2AsXRu81Y4JTNXLVld4og7nxt/view?usp=sharing\n",
        "\n",
        "## Planteamiento del problema\n",
        "Diseñar un algoritmo y programarlo para que:\n",
        "1. Solicite por teclado el año, el estado y el mes, en base a esa información:\n",
        "- muestre en pantalla el promedio de ese mes en ese estado en el año seleccionado.\n",
        "- muestre en pantalla el promedio anual del  estado seleccionado.\n",
        "- muestre la suma de los 12 meses de ese estado en el año seleccionado.\n",
        "2. Busque el mes que mas llovió en todos los estados durante esos dos años. Imprimir año, estado y mes.\n",
        "3. Busque el mes que menos llovió en los dos. Imprimir año, estado y mes."
      ]
    },
    {
      "cell_type": "code",
      "metadata": {
        "id": "HrLHQVG9h6zX",
        "outputId": "a8964fab-38a0-432b-f6e4-94b541ae4966",
        "colab": {
          "base_uri": "https://localhost:8080/",
          "height": 182
        }
      },
      "source": [
        "import xlrd\n",
        "from arrays import *\n",
        "\n",
        "a3=Array3D(34,33,14)\n",
        "for anio in range(2017,2018,1):\n",
        "    ruta= str(anio)+\"Precip.xls\"\n",
        "    archivo=xlrd.open_workbook(filename=ruta)\n",
        "    hoja=archivo.sheet_by_index(0)\n",
        "    for r in range(1,34,1):\n",
        "        for c in range(0,14,1):\n",
        "            a3.set_item(anio-2017,r-1,c,hoja.cell_value(r,c))\n",
        "a=int(input(\"año(2017 ó 2018) = \"))\n",
        "e=int(input(\"estado(1-32) = \"))\n",
        "m=int(input(\"mes(1-12) = \"))\n",
        "print(\"En el año\",a,\"en el mes de\",a3.get_item(a-2017,0,m),\"en el estado\",a3.get_item(a-2017,e,0),\"promedio\",a3.get_item(a-2017,e,m))\n",
        "print()\n",
        "suma=0.0\n",
        "for i in range(2017,2018,1):\n",
        "    suma+=a3.get_item(i-2017,e,m)\n",
        "print(\"promedio: \",suma/34)\n",
        "print()\n",
        "suma=0.0\n",
        "for j in range(2017,2018,1):\n",
        "    for i in range(0,13,1):\n",
        "        if i!=0:\n",
        "            suma+=a3.get_item(j-2017,e,i)\n",
        "print(\"promedio\",suma/408)\n",
        "suma=0.0\n",
        "for k in range(2017,2018,1):\n",
        "    for i in range(1,33,1):\n",
        "        for j in range(0,13,1):\n",
        "            if j!=0:\n",
        "                suma+=a3.get_item(k-2017,i,j)\n",
        "print(suma/13056)\n",
        "                    "
      ],
      "execution_count": 38,
      "outputs": [
        {
          "output_type": "stream",
          "text": [
            "año(2017 ó 2018) = 2017\n",
            "estado(1-32) = 32\n",
            "mes(1-12) = 05\n",
            "En el año 2017 en el mes de MAY en el estado ZACATECAS promedio 10.66\n",
            "\n",
            "promedio:  0.3135294117647059\n",
            "\n",
            "promedio 1.1451225490196077\n",
            "2.286143535539215\n"
          ],
          "name": "stdout"
        }
      ]
    }
  ]
}