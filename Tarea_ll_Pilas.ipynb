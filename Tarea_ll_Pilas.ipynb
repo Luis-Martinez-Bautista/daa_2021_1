{
  "nbformat": 4,
  "nbformat_minor": 0,
  "metadata": {
    "colab": {
      "name": "Tarea ll. Pilas",
      "provenance": [],
      "authorship_tag": "ABX9TyPBWjcju6KLWa2viQUaZBhm",
      "include_colab_link": true
    },
    "kernelspec": {
      "name": "python3",
      "display_name": "Python 3"
    }
  },
  "cells": [
    {
      "cell_type": "markdown",
      "metadata": {
        "id": "view-in-github",
        "colab_type": "text"
      },
      "source": [
        "<a href=\"https://colab.research.google.com/github/Luis-Martinez-Bautista/daa_2021_1/blob/master/Tarea_ll_Pilas.ipynb\" target=\"_parent\"><img src=\"https://colab.research.google.com/assets/colab-badge.svg\" alt=\"Open In Colab\"/></a>"
      ]
    },
    {
      "cell_type": "code",
      "metadata": {
        "id": "wXyLgWpO91tC",
        "outputId": "63fb14d2-96f1-4f69-f78e-41b52529d47c",
        "colab": {
          "base_uri": "https://localhost:8080/"
        }
      },
      "source": [
        "class Stack:\n",
        "  def __init__( self ):\n",
        "    self.__datos = []\n",
        "\n",
        "  def is_empty( self ):\n",
        "    return len(self.__datos) == 0\n",
        "\n",
        "  def get_top( self ):\n",
        "    return self.__datos[-1]\n",
        "\n",
        "  def pop( self ):\n",
        "    return self.__datos.pop()\n",
        "\n",
        "  def push( self, valor):\n",
        "    self.__datos.append(valor)\n",
        "\n",
        "  def get_length( self ):\n",
        "    return len(self.__datos)\n",
        "\n",
        "  def to_string( self ):\n",
        "    print(\"|-------------|\")\n",
        "    for ele in self.__datos[-1::-1]:\n",
        "      print(f\" { ele } \")\n",
        "    print(\"|-------------|\\n\")\n",
        "\n",
        "archivo = open(\"codigo.txt\", \"r\")\n",
        "pilaUno = Stack()\n",
        "texto = archivo.read()\n",
        "archivo.close()\n",
        "for i in range(len(texto)):\n",
        "  if texto[i] == '(' or texto[i] == '[' or texto[i] == '{':\n",
        "    pilaUno.push('@')\n",
        "  if texto[i] == ')' or texto[i] == ']' or texto[i] == '}':\n",
        "    if pilaUno.is_empty():\n",
        "      pilaUno.push('@')\n",
        "    else:\n",
        "      pilaUno.pop()\n",
        "\n",
        "if pilaUno.is_empty():\n",
        "  print(\"El programa está balanceado\")\n",
        "else:\n",
        "  print(\"El programa no está balanceado\")\n"
      ],
      "execution_count": 41,
      "outputs": [
        {
          "output_type": "stream",
          "text": [
            "El programa está balanceado\n"
          ],
          "name": "stdout"
        }
      ]
    }
  ]
}