{
  "nbformat": 4,
  "nbformat_minor": 0,
  "metadata": {
    "colab": {
      "name": "Tarea 8",
      "provenance": [],
      "collapsed_sections": [],
      "authorship_tag": "ABX9TyNXfFOxxmtQjXNeH5nHx4+Q",
      "include_colab_link": true
    },
    "kernelspec": {
      "name": "python3",
      "display_name": "Python 3"
    }
  },
  "cells": [
    {
      "cell_type": "markdown",
      "metadata": {
        "id": "view-in-github",
        "colab_type": "text"
      },
      "source": [
        "<a href=\"https://colab.research.google.com/github/Luis-Martinez-Bautista/daa_2021_1/blob/master/Tarea_8.ipynb\" target=\"_parent\"><img src=\"https://colab.research.google.com/assets/colab-badge.svg\" alt=\"Open In Colab\"/></a>"
      ]
    },
    {
      "cell_type": "code",
      "metadata": {
        "colab": {
          "base_uri": "https://localhost:8080/"
        },
        "id": "EIianvFgdBHa",
        "outputId": "f4207dac-dfbc-4f89-f63c-b9c9b924a3d2"
      },
      "source": [
        "alumno1={'id':2, 'nombre':\"Juan\" , 'carrera':\"ICO\", 'promedio':7.67}\n",
        "alumno2={'id':4, 'nombre':\"Rocio\" , 'carrera':\"ICI\", 'promedio':8.67}\n",
        "alumno3={'id':5, 'nombre':\"Diego\" , 'carrera':\"DER\", 'promedio':8.98}\n",
        "alumno4={'id':7, 'nombre':\"May\" , 'carrera':\"ICI\", 'promedio':9.87}\n",
        "alumno5={'id':9, 'nombre':\"Rob\" , 'carrera':\"IME\", 'promedio':10.00}\n",
        "alumno6={'id':10, 'nombre':\"Santi\" , 'carrera':\"ICO\", 'promedio':5.37}\n",
        "alumno7={'id':14, 'nombre':\"Moy\" , 'carrera':\"IME\", 'promedio':6.85}\n",
        "alumno8={'id':16, 'nombre':\"Diana\" , 'carrera':\"DER\", 'promedio':9.99}\n",
        "alumno9={'id':19, 'nombre':\"Zoila\" , 'carrera':\"ICO\", 'promedio':8.22}\n",
        "alumno10={'id':22, 'nombre':\"Armando\" , 'carrera':\"ICO\", 'promedio':7.32}\n",
        "\n",
        "bd = []\n",
        "bd.append(alumno1)\n",
        "bd.append(alumno2)\n",
        "bd.append(alumno3)\n",
        "bd.append(alumno4)\n",
        "bd.append(alumno5)\n",
        "bd.append(alumno6)\n",
        "bd.append(alumno7)\n",
        "bd.append(alumno8)\n",
        "bd.append(alumno9)\n",
        "bd.append(alumno10)\n",
        "\n",
        "def BusquedaBin(cadena, id, inicio, final, indice):\n",
        "  if  id < 0 or id == 1 or id == 3 or id == 6 or id == 8 or id == 11 or id == 12 or id == 13 or id == 15 or id == 17 or id == 18 or id == 20 or id == 21 or id > 22:\n",
        "    print(\"No se ha encontrado la ID del alumno\")\n",
        "    pass\n",
        "  elif cadena[indice][\"id\"] == id:\n",
        "    print(bd[indice][\"nombre\"], \"estudia la carrera de\", bd[indice][\"carrera\"], \"y actualmente tiene un promedio de\", bd[indice][\"promedio\"])\n",
        "  elif id < bd[indice][\"id\"]:\n",
        "    final = final // 2\n",
        "    indice = final // 2\n",
        "    BusquedaBin(cadena, id, inicio, final, indice)\n",
        "  elif id > bd[indice][\"id\"]:\n",
        "    inicio = indice\n",
        "    indice=inicio+(final//4)\n",
        "    BusquedaBin(cadena, id, inicio, final, indice)\n",
        "\n",
        "id = int(input(\"Ingrese el ID del alumno que quiere consultar: \"))\n",
        "BusquedaBin(bd, id, 0, len(bd), len(bd)//2 )\n"
      ],
      "execution_count": 16,
      "outputs": [
        {
          "output_type": "stream",
          "text": [
            "Ingrese el ID del alumno que quiere consultar: 6\n",
            "No se ha encontrado la ID del alumno\n"
          ],
          "name": "stdout"
        }
      ]
    }
  ]
}