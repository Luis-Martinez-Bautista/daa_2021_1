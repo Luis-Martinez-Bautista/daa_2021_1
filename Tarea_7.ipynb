{
  "nbformat": 4,
  "nbformat_minor": 0,
  "metadata": {
    "colab": {
      "name": "Tarea 7",
      "provenance": [],
      "authorship_tag": "ABX9TyNGFiGDaXigQnBtxUN5IdEs",
      "include_colab_link": true
    },
    "kernelspec": {
      "name": "python3",
      "display_name": "Python 3"
    }
  },
  "cells": [
    {
      "cell_type": "markdown",
      "metadata": {
        "id": "view-in-github",
        "colab_type": "text"
      },
      "source": [
        "<a href=\"https://colab.research.google.com/github/Luis-Martinez-Bautista/daa_2021_1/blob/master/Tarea_7.ipynb\" target=\"_parent\"><img src=\"https://colab.research.google.com/assets/colab-badge.svg\" alt=\"Open In Colab\"/></a>"
      ]
    },
    {
      "cell_type": "code",
      "metadata": {
        "colab": {
          "base_uri": "https://localhost:8080/"
        },
        "id": "_ZZMA9Y9tgw_",
        "outputId": "a2f2e842-2e59-4e20-daf8-12b07c57337e"
      },
      "source": [
        "def SumaRecursiva(lista, res):\n",
        "  if len(lista) != 0:\n",
        "    res += lista[len(lista)-1]\n",
        "    lista.pop()\n",
        "    SumaRecursiva(lista, res)\n",
        "  else:\n",
        "    print(res)\n",
        "\n",
        "lista = [5, 7, 9, 2, 10, 45]\n",
        "SumaRecursiva(lista, 0)"
      ],
      "execution_count": 24,
      "outputs": [
        {
          "output_type": "stream",
          "text": [
            "78\n"
          ],
          "name": "stdout"
        }
      ]
    },
    {
      "cell_type": "code",
      "metadata": {
        "colab": {
          "base_uri": "https://localhost:8080/"
        },
        "id": "mf_H70yRthw-",
        "outputId": "21b016e4-47ab-4d5b-af01-15a6e1b5461a"
      },
      "source": [
        "def CuentaRegresiva(num):\n",
        "  if num > -1:\n",
        "    print(num)\n",
        "    CuentaRegresiva(num - 1)\n",
        "  else:\n",
        "    print(\"STOP\")\n",
        "\n",
        "print(\"Inicio de cuenta regresiva:\", 10 ,\"segundos para el final\")\n",
        "CuentaRegresiva(20)"
      ],
      "execution_count": 25,
      "outputs": [
        {
          "output_type": "stream",
          "text": [
            "Inicio de cuenta regresiva: 10 segundos para el final\n",
            "20\n",
            "19\n",
            "18\n",
            "17\n",
            "16\n",
            "15\n",
            "14\n",
            "13\n",
            "12\n",
            "11\n",
            "10\n",
            "9\n",
            "8\n",
            "7\n",
            "6\n",
            "5\n",
            "4\n",
            "3\n",
            "2\n",
            "1\n",
            "0\n",
            "STOP\n"
          ],
          "name": "stdout"
        }
      ]
    },
    {
      "cell_type": "code",
      "metadata": {
        "colab": {
          "base_uri": "https://localhost:8080/"
        },
        "id": "UO3alPsqth9S",
        "outputId": "3a150787-ca76-4d12-93e9-945f85a25df0"
      },
      "source": [
        "class Pila:\n",
        "     def __init__(self):\n",
        "         self.items = []\n",
        "\n",
        "     def estaVacia(self):\n",
        "         return self.items == []\n",
        "\n",
        "     def incluir(self, item):\n",
        "         self.items.append(item)\n",
        "\n",
        "     def extraer(self):\n",
        "         return self.items.pop()\n",
        "\n",
        "     def inspeccionar(self):\n",
        "         return self.items[len(self.items)-1]\n",
        "\n",
        "     def tamano(self):\n",
        "         return len(self.items)\n",
        "\n",
        "def mitad(pila, medio):\n",
        "  if medio > 0:\n",
        "    pila.extraer()\n",
        "    mitad(pila, medio - 1)\n",
        "  else:\n",
        "    print(\"El elemento central es: \", pila.inspeccionar())\n",
        "\n",
        "pila = Pila()\n",
        "pila.incluir(5)\n",
        "pila.incluir(4)\n",
        "pila.incluir(6)\n",
        "pila.incluir(8)\n",
        "pila.incluir(7)\n",
        "pila.incluir(1)\n",
        "pila.incluir(10)\n",
        "if pila.tamano() % 2 != 0:\n",
        "  mitad(pila, pila.tamano() // 2 )\n",
        "else:\n",
        "  print(\"La pila no tiene un elemento central\")"
      ],
      "execution_count": 23,
      "outputs": [
        {
          "output_type": "stream",
          "text": [
            "El elemento central es:  8\n"
          ],
          "name": "stdout"
        }
      ]
    }
  ]
}