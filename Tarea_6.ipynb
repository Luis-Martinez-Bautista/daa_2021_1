{
  "nbformat": 4,
  "nbformat_minor": 0,
  "metadata": {
    "colab": {
      "name": "Tarea 6",
      "provenance": [],
      "collapsed_sections": [],
      "authorship_tag": "ABX9TyMmcN0uJATHTbU5rp19g55L",
      "include_colab_link": true
    },
    "kernelspec": {
      "name": "python3",
      "display_name": "Python 3"
    }
  },
  "cells": [
    {
      "cell_type": "markdown",
      "metadata": {
        "id": "view-in-github",
        "colab_type": "text"
      },
      "source": [
        "<a href=\"https://colab.research.google.com/github/Luis-Martinez-Bautista/daa_2021_1/blob/master/Tarea_6.ipynb\" target=\"_parent\"><img src=\"https://colab.research.google.com/assets/colab-badge.svg\" alt=\"Open In Colab\"/></a>"
      ]
    },
    {
      "cell_type": "code",
      "metadata": {
        "colab": {
          "base_uri": "https://localhost:8080/"
        },
        "id": "BfdpfK7IqIwk",
        "outputId": "1a89c0fb-a8f5-40e9-bc24-0ec3ad5b4d62"
      },
      "source": [
        "texto = 'El lema que anima a la Universidad Nacional, Por mi raza hablará el espíritu, revela la vocación humanística con la que fue concebida. El autor de esta célebre frase, José Vasconcelos, asumió la rectoría en 1920, en una época en que las esperanzas de la Revolución aún estaban vivas, había una gran fe en la Patria y el ánimo redentor se extendía en el ambiente.'\n",
        "texto = texto.lower()\n",
        "texto = texto.replace('á', 'a')\n",
        "texto = texto.replace('é', 'e')\n",
        "texto = texto.replace('í', 'i')\n",
        "texto = texto.replace('ó', 'o')\n",
        "texto = texto.replace('ú', 'u')\n",
        "texto = texto.replace(',', '')\n",
        "texto = texto.replace('.', '')\n",
        "texto = texto.split()\n",
        "texto.sort()\n",
        "for i in range (len(texto)):\n",
        "  repeticiones = 0\n",
        "  for j in range (len(texto)):\n",
        "    if texto[i] == texto[j]:\n",
        "      repeticiones += 1\n",
        "  if repeticiones > 1 and texto[i] == texto[i-1]:\n",
        "    exit\n",
        "  else:\n",
        "    print(\"La palabra '\", texto[i], \"' se repite: \", repeticiones, \"vez\")"
      ],
      "execution_count": null,
      "outputs": [
        {
          "output_type": "stream",
          "text": [
            "La palabra ' 1920 ' se repite:  1 vez\n",
            "La palabra ' a ' se repite:  1 vez\n",
            "La palabra ' ambiente ' se repite:  1 vez\n",
            "La palabra ' anima ' se repite:  1 vez\n",
            "La palabra ' animo ' se repite:  1 vez\n",
            "La palabra ' asumio ' se repite:  1 vez\n",
            "La palabra ' aun ' se repite:  1 vez\n",
            "La palabra ' autor ' se repite:  1 vez\n",
            "La palabra ' celebre ' se repite:  1 vez\n",
            "La palabra ' con ' se repite:  1 vez\n",
            "La palabra ' concebida ' se repite:  1 vez\n",
            "La palabra ' de ' se repite:  2 vez\n",
            "La palabra ' el ' se repite:  5 vez\n",
            "La palabra ' en ' se repite:  5 vez\n",
            "La palabra ' epoca ' se repite:  1 vez\n",
            "La palabra ' esperanzas ' se repite:  1 vez\n",
            "La palabra ' espiritu ' se repite:  1 vez\n",
            "La palabra ' esta ' se repite:  1 vez\n",
            "La palabra ' estaban ' se repite:  1 vez\n",
            "La palabra ' extendia ' se repite:  1 vez\n",
            "La palabra ' fe ' se repite:  1 vez\n",
            "La palabra ' frase ' se repite:  1 vez\n",
            "La palabra ' fue ' se repite:  1 vez\n",
            "La palabra ' gran ' se repite:  1 vez\n",
            "La palabra ' habia ' se repite:  1 vez\n",
            "La palabra ' hablara ' se repite:  1 vez\n",
            "La palabra ' humanistica ' se repite:  1 vez\n",
            "La palabra ' jose ' se repite:  1 vez\n",
            "La palabra ' la ' se repite:  6 vez\n",
            "La palabra ' las ' se repite:  1 vez\n",
            "La palabra ' lema ' se repite:  1 vez\n",
            "La palabra ' mi ' se repite:  1 vez\n",
            "La palabra ' nacional ' se repite:  1 vez\n",
            "La palabra ' patria ' se repite:  1 vez\n",
            "La palabra ' por ' se repite:  1 vez\n",
            "La palabra ' que ' se repite:  3 vez\n",
            "La palabra ' raza ' se repite:  1 vez\n",
            "La palabra ' rectoria ' se repite:  1 vez\n",
            "La palabra ' redentor ' se repite:  1 vez\n",
            "La palabra ' revela ' se repite:  1 vez\n",
            "La palabra ' revolucion ' se repite:  1 vez\n",
            "La palabra ' se ' se repite:  1 vez\n",
            "La palabra ' una ' se repite:  2 vez\n",
            "La palabra ' universidad ' se repite:  1 vez\n",
            "La palabra ' vasconcelos ' se repite:  1 vez\n",
            "La palabra ' vivas ' se repite:  1 vez\n",
            "La palabra ' vocacion ' se repite:  1 vez\n",
            "La palabra ' y ' se repite:  1 vez\n"
          ],
          "name": "stdout"
        }
      ]
    }
  ]
}