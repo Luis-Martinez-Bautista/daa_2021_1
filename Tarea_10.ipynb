{
  "nbformat": 4,
  "nbformat_minor": 0,
  "metadata": {
    "colab": {
      "name": "Tarea 10",
      "provenance": [],
      "authorship_tag": "ABX9TyNZMUwk1bKa0zPl9r607Y+o",
      "include_colab_link": true
    },
    "kernelspec": {
      "name": "python3",
      "display_name": "Python 3"
    }
  },
  "cells": [
    {
      "cell_type": "markdown",
      "metadata": {
        "id": "view-in-github",
        "colab_type": "text"
      },
      "source": [
        "<a href=\"https://colab.research.google.com/github/Luis-Martinez-Bautista/daa_2021_1/blob/master/Tarea_10.ipynb\" target=\"_parent\"><img src=\"https://colab.research.google.com/assets/colab-badge.svg\" alt=\"Open In Colab\"/></a>"
      ]
    },
    {
      "cell_type": "code",
      "metadata": {
        "id": "8rFR9YGpMrRj"
      },
      "source": [
        "class NodoArbol:\r\n",
        "  def __init__ (self, value, left = None, right = None):\r\n",
        "    self.data = value\r\n",
        "    self.left = left\r\n",
        "    self.right = right\r\n",
        "    "
      ],
      "execution_count": 3,
      "outputs": []
    },
    {
      "cell_type": "code",
      "metadata": {
        "id": "-Qq3oDCEtFaZ"
      },
      "source": [
        "def HojasIzq(nodo, contador):\r\n",
        "  if nodo.left != None:\r\n",
        "    contador += 1\r\n",
        "    HojasIzq(nodo.left, contador)\r\n",
        "    contador -= 1\r\n",
        "  if nodo.right != None:\r\n",
        "    contador += 1\r\n",
        "    HojasIzq(nodo.right, contador)\r\n",
        "    contador -= 1\r\n",
        "  if nodo.left == None and nodo.right == None:\r\n",
        "    print(\"El nodo \" + nodo.data + \" Tiene la raiz mas grande con una longitud de \" + str(contador))\r\n",
        "\r\n",
        "def HojasDer(nodo, contador):\r\n",
        "  if nodo.right != None:\r\n",
        "    contador += 1\r\n",
        "    HojasDer(nodo.right, contador)\r\n",
        "    contador -= 1\r\n",
        "  if nodo.left != None:\r\n",
        "    contador += 1\r\n",
        "    HojasDer(nodo.left, contador)\r\n",
        "    contador -= 1\r\n",
        "  if nodo.left == None and nodo.right == None:\r\n",
        "    print(\"El nodo \" + nodo.data + \" Tiene la raiz mas grande con una longitud de \" + str(contador))"
      ],
      "execution_count": 2,
      "outputs": []
    },
    {
      "cell_type": "code",
      "metadata": {
        "colab": {
          "base_uri": "https://localhost:8080/"
        },
        "id": "n4QISxy0SCrD",
        "outputId": "a9cb4f3c-eef0-4022-dd4b-a3de5b9ebe55"
      },
      "source": [
        "arbolUno = NodoArbol(\"R\", NodoArbol(\"J\", NodoArbol(\"V\", NodoArbol(\"L\", None, None), None), NodoArbol(\"P\", NodoArbol(\"F\", None, None), None)), NodoArbol(\"K\", None, NodoArbol(\"M\", NodoArbol(\"N\", None, None), None)))\r\n",
        "contador = 0\r\n",
        "HojasIzq(arbolUno, contador)"
      ],
      "execution_count": null,
      "outputs": [
        {
          "output_type": "stream",
          "text": [
            "El nodo L Tiene la raiz mas grande con una longitud de 3\n",
            "El nodo F Tiene la raiz mas grande con una longitud de 3\n",
            "El nodo N Tiene la raiz mas grande con una longitud de 3\n"
          ],
          "name": "stdout"
        }
      ]
    },
    {
      "cell_type": "code",
      "metadata": {
        "colab": {
          "base_uri": "https://localhost:8080/"
        },
        "id": "XsIldKhmgsrK",
        "outputId": "5e8bea19-bf3e-4a22-d4f4-eec84da44d9e"
      },
      "source": [
        "arbolDos = NodoArbol(\"N\", NodoArbol(\"G\", NodoArbol(\"B\", None, NodoArbol(\"T\", None, None)), None), NodoArbol(\"A\", None, NodoArbol(\"S\", NodoArbol(\"Z\", None, None), None)))\r\n",
        "contador = 0\r\n",
        "HojasDer(arbolDos, contador)"
      ],
      "execution_count": null,
      "outputs": [
        {
          "output_type": "stream",
          "text": [
            "El nodo Z Tiene la raiz mas grande con una longitud de 3\n",
            "El nodo T Tiene la raiz mas grande con una longitud de 3\n"
          ],
          "name": "stdout"
        }
      ]
    },
    {
      "cell_type": "code",
      "metadata": {
        "id": "KjCuNnUpidBX",
        "colab": {
          "base_uri": "https://localhost:8080/"
        },
        "outputId": "361335ac-5d85-488d-f4cf-f2f38f762f53"
      },
      "source": [
        "arbolTres = NodoArbol(\"A\", NodoArbol(\"K\", None, NodoArbol(\"U\", NodoArbol(\"Z\", None, None), None)), None)\r\n",
        "contador = 0\r\n",
        "HojasIzq(arbolTres, contador)"
      ],
      "execution_count": 5,
      "outputs": [
        {
          "output_type": "stream",
          "text": [
            "El nodo Z Tiene la raiz mas grande con una longitud de 3\n"
          ],
          "name": "stdout"
        }
      ]
    },
    {
      "cell_type": "code",
      "metadata": {
        "colab": {
          "base_uri": "https://localhost:8080/"
        },
        "id": "GraOgb3VStpE",
        "outputId": "fadd8a6d-9518-473f-cb1d-f40b2401c108"
      },
      "source": [
        "arbolCuatro = NodoArbol(\"T\", NodoArbol(\"B\", NodoArbol(\"Z\", None, None), NodoArbol(\"X\", None, None)), NodoArbol(\"G\", NodoArbol(\"Y\", None, None), NodoArbol(\"W\", None, None)))\r\n",
        "contador = 0\r\n",
        "HojasDer(arbolCuatro, contador)"
      ],
      "execution_count": 6,
      "outputs": [
        {
          "output_type": "stream",
          "text": [
            "El nodo W Tiene la raiz mas grande con una longitud de 2\n",
            "El nodo Y Tiene la raiz mas grande con una longitud de 2\n",
            "El nodo X Tiene la raiz mas grande con una longitud de 2\n",
            "El nodo Z Tiene la raiz mas grande con una longitud de 2\n"
          ],
          "name": "stdout"
        }
      ]
    }
  ]
}